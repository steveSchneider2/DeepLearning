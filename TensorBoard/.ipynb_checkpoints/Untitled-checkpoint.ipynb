{
 "cells": [
  {
   "cell_type": "code",
   "execution_count": 2,
   "id": "9e0a8879",
   "metadata": {},
   "outputs": [],
   "source": [
    "# \n",
    "import tensorflow as tf\n",
    "import datetime\n",
    "%load_ext tensorboard"
   ]
  },
  {
   "cell_type": "code",
   "execution_count": 3,
   "id": "f48f74c9",
   "metadata": {},
   "outputs": [
    {
     "data": {
      "text/plain": [
       "Launching TensorBoard..."
      ]
     },
     "metadata": {},
     "output_type": "display_data"
    },
    {
     "ename": "KeyboardInterrupt",
     "evalue": "",
     "output_type": "error",
     "traceback": [
      "Traceback \u001b[1;36m(most recent call last)\u001b[0m:\n",
      "  File \u001b[0;32m\"<ipython-input-3-77e878dbac1e>\"\u001b[0m, line \u001b[0;32m1\u001b[0m, in \u001b[0;35m<module>\u001b[0m\n    get_ipython().run_line_magic('tensorboard', '--logdir logs\\\\\\\\fit\\\\\\\\20210161046')\n",
      "  File \u001b[0;32m\"C:\\Users\\steve\\anaconda3\\envs\\MLflow\\lib\\site-packages\\IPython\\core\\interactiveshell.py\"\u001b[0m, line \u001b[0;32m2348\u001b[0m, in \u001b[0;35mrun_line_magic\u001b[0m\n    result = fn(*args, **kwargs)\n",
      "  File \u001b[0;32m\"C:\\Users\\steve\\anaconda3\\envs\\MLflow\\lib\\site-packages\\tensorboard\\notebook.py\"\u001b[0m, line \u001b[0;32m128\u001b[0m, in \u001b[0;35m_start_magic\u001b[0m\n    return start(line)\n",
      "  File \u001b[0;32m\"C:\\Users\\steve\\anaconda3\\envs\\MLflow\\lib\\site-packages\\tensorboard\\notebook.py\"\u001b[0m, line \u001b[0;32m162\u001b[0m, in \u001b[0;35mstart\u001b[0m\n    start_result = manager.start(parsed_args)\n",
      "\u001b[1;36m  File \u001b[1;32m\"C:\\Users\\steve\\anaconda3\\envs\\MLflow\\lib\\site-packages\\tensorboard\\manager.py\"\u001b[1;36m, line \u001b[1;32m425\u001b[1;36m, in \u001b[1;35mstart\u001b[1;36m\u001b[0m\n\u001b[1;33m    time.sleep(poll_interval_seconds)\u001b[0m\n",
      "\u001b[1;31mKeyboardInterrupt\u001b[0m\n"
     ]
    }
   ],
   "source": [
    "%tensorboard --logdir logs\\\\fit\\\\20210161046"
   ]
  },
  {
   "cell_type": "code",
   "execution_count": null,
   "id": "5dabcb45",
   "metadata": {},
   "outputs": [],
   "source": []
  }
 ],
 "metadata": {
  "kernelspec": {
   "display_name": "Python 3 (Spyder)",
   "language": "python3",
   "name": "python3"
  },
  "language_info": {
   "codemirror_mode": {
    "name": "ipython",
    "version": 3
   },
   "file_extension": ".py",
   "mimetype": "text/x-python",
   "name": "python",
   "nbconvert_exporter": "python",
   "pygments_lexer": "ipython3",
   "version": "3.8.8"
  }
 },
 "nbformat": 4,
 "nbformat_minor": 5
}
